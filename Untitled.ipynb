{
 "cells": [
  {
   "cell_type": "code",
   "execution_count": 28,
   "metadata": {},
   "outputs": [],
   "source": [
    "import numpy as np\n",
    "from matplotlib import pyplot as plt\n",
    "%matplotlib inline\n",
    "import pandas as pd\n",
    "import os\n",
    "import cv2\n",
    "\n",
    "import keras\n",
    "from keras.layers import Convolution2D, MaxPooling2D, Activation, Dense, Flatten, Reshape, Dropout\n",
    "from keras.utils import np_utils\n",
    "from keras.models import Sequential\n",
    "from keras.optimizers import RMSprop,SGD\n"
   ]
  },
  {
   "cell_type": "code",
   "execution_count": 11,
   "metadata": {
    "collapsed": true
   },
   "outputs": [],
   "source": [
    "train_files = os.listdir('./data/')\n",
    "#print files\n",
    "\n",
    "train_img_path = []\n",
    "train_label = []\n",
    "\n",
    "for f in train_files:\n",
    "    ims  = os.listdir('./data/'+f)\n",
    "    for im in ims:\n",
    "        train_img_path.append('./data/'+f+'/'+im)\n",
    "        train_label.append(f)\n",
    "\n",
    "        \n",
    "train_imgs = []\n",
    "\n",
    "for fx in train_img_path:\n",
    "    im = cv2.imread(fx,1)\n",
    "    im = cv2.cvtColor(im, cv2.COLOR_BGR2RGB)\n",
    "    img = cv2.resize(im, (224, 224))\n",
    "    #print img.shape\n",
    "    train_imgs.append(img)\n"
   ]
  },
  {
   "cell_type": "code",
   "execution_count": 12,
   "metadata": {},
   "outputs": [
    {
     "name": "stdout",
     "output_type": "stream",
     "text": [
      "['1', '0']\n",
      "14\n"
     ]
    }
   ],
   "source": [
    "val_files = os.listdir('./val_data/')\n",
    "print val_files\n",
    "\n",
    "val_img_path = []\n",
    "val_label = []\n",
    "\n",
    "for f in val_files:\n",
    "    ims  = os.listdir('./val_data/'+f)\n",
    "    for im in ims:\n",
    "        val_img_path.append('./val_data/'+f+'/'+im)\n",
    "        val_label.append(f)\n",
    "\n",
    "        \n",
    "val_imgs = []\n",
    "\n",
    "for fx in val_img_path:\n",
    "    im = cv2.imread(fx,1)\n",
    "    im = cv2.cvtColor(im, cv2.COLOR_BGR2RGB)\n",
    "    img = cv2.resize(im, (224, 224))\n",
    "    #print img.shape\n",
    "    val_imgs.append(img)\n",
    "print len(val_imgs) "
   ]
  },
  {
   "cell_type": "code",
   "execution_count": 13,
   "metadata": {},
   "outputs": [],
   "source": [
    "#for im in val_imgs:\n",
    "    #plt.figure(im)\n",
    " \n",
    "    #plt.imshow(im)\n",
    "    #plt.show()\n"
   ]
  },
  {
   "cell_type": "code",
   "execution_count": 14,
   "metadata": {},
   "outputs": [
    {
     "name": "stdout",
     "output_type": "stream",
     "text": [
      "(49, 224, 224, 3)\n"
     ]
    }
   ],
   "source": [
    "train_images = np.asarray(train_imgs)\n",
    "val_images  = np.asarray(val_imgs)\n",
    "train_labels  = np.asarray(train_label)\n",
    "val_labels = np.asarray(val_label)\n",
    "#new_imag = np.insert(all_faces,1,label,axis = 3)\n",
    "print train_images.shape"
   ]
  },
  {
   "cell_type": "code",
   "execution_count": 15,
   "metadata": {},
   "outputs": [
    {
     "name": "stdout",
     "output_type": "stream",
     "text": [
      "(49, 224, 224, 3)\n"
     ]
    }
   ],
   "source": [
    "#print train_labels\n",
    "y_train = np_utils.to_categorical(train_labels)\n",
    "y_val = np_utils.to_categorical(val_label)\n",
    "#print y_train\n",
    "#x_train= train_images.reshape((len(train_images),3,224,224))\n",
    "#x_val = val_images.reshape((len(val_images),3,224,224))\n",
    "\n",
    "print train_images.shape"
   ]
  },
  {
   "cell_type": "code",
   "execution_count": 29,
   "metadata": {},
   "outputs": [
    {
     "name": "stdout",
     "output_type": "stream",
     "text": [
      "_________________________________________________________________\n",
      "Layer (type)                 Output Shape              Param #   \n",
      "=================================================================\n",
      "conv2d_28 (Conv2D)           (None, 222, 222, 128)     3584      \n",
      "_________________________________________________________________\n",
      "conv2d_29 (Conv2D)           (None, 220, 220, 128)     147584    \n",
      "_________________________________________________________________\n",
      "max_pooling2d_10 (MaxPooling (None, 110, 110, 128)     0         \n",
      "_________________________________________________________________\n",
      "conv2d_30 (Conv2D)           (None, 108, 108, 64)      73792     \n",
      "_________________________________________________________________\n",
      "flatten_10 (Flatten)         (None, 746496)            0         \n",
      "_________________________________________________________________\n",
      "dense_28 (Dense)             (None, 128)               95551616  \n",
      "_________________________________________________________________\n",
      "dropout_19 (Dropout)         (None, 128)               0         \n",
      "_________________________________________________________________\n",
      "activation_28 (Activation)   (None, 128)               0         \n",
      "_________________________________________________________________\n",
      "dense_29 (Dense)             (None, 128)               16512     \n",
      "_________________________________________________________________\n",
      "dropout_20 (Dropout)         (None, 128)               0         \n",
      "_________________________________________________________________\n",
      "activation_29 (Activation)   (None, 128)               0         \n",
      "_________________________________________________________________\n",
      "dense_30 (Dense)             (None, 2)                 258       \n",
      "_________________________________________________________________\n",
      "activation_30 (Activation)   (None, 2)                 0         \n",
      "=================================================================\n",
      "Total params: 95,793,346\n",
      "Trainable params: 95,793,346\n",
      "Non-trainable params: 0\n",
      "_________________________________________________________________\n"
     ]
    },
    {
     "name": "stderr",
     "output_type": "stream",
     "text": [
      "/usr/local/lib/python2.7/dist-packages/ipykernel_launcher.py:2: UserWarning: Update your `Conv2D` call to the Keras 2 API: `Conv2D(128, (3, 3), activation=\"relu\", input_shape=(224, 224,...)`\n",
      "  \n",
      "/usr/local/lib/python2.7/dist-packages/ipykernel_launcher.py:3: UserWarning: Update your `Conv2D` call to the Keras 2 API: `Conv2D(128, (3, 3), activation=\"relu\")`\n",
      "  This is separate from the ipykernel package so we can avoid doing imports until\n",
      "/usr/local/lib/python2.7/dist-packages/ipykernel_launcher.py:7: UserWarning: Update your `Conv2D` call to the Keras 2 API: `Conv2D(64, (3, 3), activation=\"relu\")`\n",
      "  import sys\n"
     ]
    }
   ],
   "source": [
    "model = Sequential()\n",
    "model.add(Convolution2D(128,3,3, input_shape = (224,224,3),activation='relu'))\n",
    "model.add(Convolution2D(128,3,3, activation='relu'))\n",
    "\n",
    "model.add(MaxPooling2D(pool_size=(2,2)))\n",
    "\n",
    "model.add(Convolution2D(64,3,3, activation='relu'))\n",
    "model.add(Flatten())\n",
    "#model.add(Dropout(0.4))\n",
    "\n",
    "model.add(Dense(128))\n",
    "model.add(Dropout(0.25))\n",
    "model.add(Activation('relu'))\n",
    "\n",
    "model.add(Dense(128))\n",
    "model.add(Dropout(0.25))\n",
    "model.add(Activation('relu'))\n",
    "\n",
    "model.add(Dense(2))\n",
    "model.add(Activation('softmax'))\n",
    "\n",
    "model.summary()\n",
    "rms = RMSprop()\n",
    "sgd = SGD(lr=0.001, decay=1e-6, momentum=0.5, nesterov=True)\n",
    "model.compile(loss='categorical_crossentropy', optimizer=sgd, metrics=['accuracy'])"
   ]
  },
  {
   "cell_type": "code",
   "execution_count": 30,
   "metadata": {},
   "outputs": [
    {
     "name": "stderr",
     "output_type": "stream",
     "text": [
      "/usr/local/lib/python2.7/dist-packages/keras/models.py:848: UserWarning: The `nb_epoch` argument in `fit` has been renamed `epochs`.\n",
      "  warnings.warn('The `nb_epoch` argument in `fit` '\n"
     ]
    },
    {
     "name": "stdout",
     "output_type": "stream",
     "text": [
      "Train on 49 samples, validate on 14 samples\n",
      "Epoch 1/5\n",
      "49/49 [==============================] - 204s - loss: 4.6075 - acc: 0.7143 - val_loss: 5.7565 - val_acc: 0.6429\n",
      "Epoch 2/5\n",
      "49/49 [==============================] - 97s - loss: 4.9341 - acc: 0.6939 - val_loss: 5.7565 - val_acc: 0.6429\n",
      "Epoch 3/5\n",
      "49/49 [==============================] - 99s - loss: 4.6052 - acc: 0.7143 - val_loss: 5.7565 - val_acc: 0.6429\n",
      "Epoch 4/5\n",
      "49/49 [==============================] - 98s - loss: 4.9341 - acc: 0.6939 - val_loss: 5.7565 - val_acc: 0.6429\n",
      "Epoch 5/5\n",
      "49/49 [==============================] - 98s - loss: 5.2631 - acc: 0.6735 - val_loss: 5.7565 - val_acc: 0.6429\n"
     ]
    }
   ],
   "source": [
    "hist= model.fit(train_images, y_train,nb_epoch=5,shuffle = True, batch_size=5,\n",
    "               validation_data=(val_images,y_val))"
   ]
  },
  {
   "cell_type": "code",
   "execution_count": 35,
   "metadata": {},
   "outputs": [
    {
     "name": "stdout",
     "output_type": "stream",
     "text": [
      "[[ 1.  0.]]\n",
      "1\n"
     ]
    }
   ],
   "source": [
    "image_path = \n",
    "im = cv2.imread(image_path,1)\n",
    "im = cv2.cvtColor(im, cv2.COLOR_BGR2RGB)\n",
    "img = cv2.resize(im, (224, 224))\n",
    "imag = np.asarray(imag)\n",
    "imag = np.reshape(imag,(1,224,224,3))\n",
    "\n",
    "ans = model.predict(imag)"
   ]
  },
  {
   "cell_type": "code",
   "execution_count": null,
   "metadata": {
    "collapsed": true
   },
   "outputs": [],
   "source": []
  }
 ],
 "metadata": {
  "kernelspec": {
   "display_name": "Python 2",
   "language": "python",
   "name": "python2"
  },
  "language_info": {
   "codemirror_mode": {
    "name": "ipython",
    "version": 2
   },
   "file_extension": ".py",
   "mimetype": "text/x-python",
   "name": "python",
   "nbconvert_exporter": "python",
   "pygments_lexer": "ipython2",
   "version": "2.7.12"
  }
 },
 "nbformat": 4,
 "nbformat_minor": 2
}
